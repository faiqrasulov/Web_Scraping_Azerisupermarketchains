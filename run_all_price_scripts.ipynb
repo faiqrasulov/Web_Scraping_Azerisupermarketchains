{
 "cells": [
  {
   "cell_type": "code",
   "execution_count": null,
   "id": "38b7452e-b0bf-45d3-a33b-d4cd48e94417",
   "metadata": {},
   "outputs": [
    {
     "name": "stderr",
     "output_type": "stream",
     "text": [
      "Executing notebooks:   0%|          | 0/3 [00:00<?, ?it/s]"
     ]
    },
    {
     "data": {
      "application/vnd.jupyter.widget-view+json": {
       "model_id": "88611730bd994b79b2f1fcf046f7be98",
       "version_major": 2,
       "version_minor": 0
      },
      "text/plain": [
       "Executing:   0%|          | 0/11 [00:00<?, ?cell/s]"
      ]
     },
     "metadata": {},
     "output_type": "display_data"
    },
    {
     "data": {
      "application/vnd.jupyter.widget-view+json": {
       "model_id": "7c5164687f32459fbcac0764afbef8ea",
       "version_major": 2,
       "version_minor": 0
      },
      "text/plain": [
       "Executing:   0%|          | 0/17 [00:00<?, ?cell/s]"
      ]
     },
     "metadata": {},
     "output_type": "display_data"
    },
    {
     "data": {
      "application/vnd.jupyter.widget-view+json": {
       "model_id": "27d217140b974cb4bec22622427510cb",
       "version_major": 2,
       "version_minor": 0
      },
      "text/plain": [
       "Executing:   0%|          | 0/11 [00:00<?, ?cell/s]"
      ]
     },
     "metadata": {},
     "output_type": "display_data"
    },
    {
     "name": "stderr",
     "output_type": "stream",
     "text": [
      "Executing notebooks: 100%|██████████| 3/3 [39:52<00:00, 797.51s/it]"
     ]
    },
    {
     "name": "stdout",
     "output_type": "stream",
     "text": [
      "Error running notebook BazarStore_new.ipynb: \n",
      "---------------------------------------------------------------------------\n",
      "Exception encountered at \"In [3]\":\n",
      "---------------------------------------------------------------------------\n",
      "ValueError                                Traceback (most recent call last)\n",
      "Input In [3], in <cell line: 15>()\n",
      "     13 # Convert them back to float\n",
      "     14 df1[\"regular_price\"] = df1[\"regular_price\"].astype(float)\n",
      "---> 15 df1[\"sale_price\"] = df1[\"sale_price\"].astype(float)\n",
      "     17 # Create a new column \"endirim_faiz\" which is (regular_price- sale_price)/regular_price\n",
      "     18 df1[\"endirim_faiz\"] = (df1[\"regular_price\"] - df1[\"sale_price\"]) / df1[\"regular_price\"]\n",
      "\n",
      "File ~/opt/anaconda3/lib/python3.9/site-packages/pandas/core/generic.py:5912, in NDFrame.astype(self, dtype, copy, errors)\n",
      "   5905     results = [\n",
      "   5906         self.iloc[:, i].astype(dtype, copy=copy)\n",
      "   5907         for i in range(len(self.columns))\n",
      "   5908     ]\n",
      "   5910 else:\n",
      "   5911     # else, only a single dtype is given\n",
      "-> 5912     new_data = self._mgr.astype(dtype=dtype, copy=copy, errors=errors)\n",
      "   5913     return self._constructor(new_data).__finalize__(self, method=\"astype\")\n",
      "   5915 # GH 33113: handle empty frame or series\n",
      "\n",
      "File ~/opt/anaconda3/lib/python3.9/site-packages/pandas/core/internals/managers.py:419, in BaseBlockManager.astype(self, dtype, copy, errors)\n",
      "    418 def astype(self: T, dtype, copy: bool = False, errors: str = \"raise\") -> T:\n",
      "--> 419     return self.apply(\"astype\", dtype=dtype, copy=copy, errors=errors)\n",
      "\n",
      "File ~/opt/anaconda3/lib/python3.9/site-packages/pandas/core/internals/managers.py:304, in BaseBlockManager.apply(self, f, align_keys, ignore_failures, **kwargs)\n",
      "    302         applied = b.apply(f, **kwargs)\n",
      "    303     else:\n",
      "--> 304         applied = getattr(b, f)(**kwargs)\n",
      "    305 except (TypeError, NotImplementedError):\n",
      "    306     if not ignore_failures:\n",
      "\n",
      "File ~/opt/anaconda3/lib/python3.9/site-packages/pandas/core/internals/blocks.py:580, in Block.astype(self, dtype, copy, errors)\n",
      "    562 \"\"\"\n",
      "    563 Coerce to the new dtype.\n",
      "    564 \n",
      "   (...)\n",
      "    576 Block\n",
      "    577 \"\"\"\n",
      "    578 values = self.values\n",
      "--> 580 new_values = astype_array_safe(values, dtype, copy=copy, errors=errors)\n",
      "    582 new_values = maybe_coerce_values(new_values)\n",
      "    583 newb = self.make_block(new_values)\n",
      "\n",
      "File ~/opt/anaconda3/lib/python3.9/site-packages/pandas/core/dtypes/cast.py:1292, in astype_array_safe(values, dtype, copy, errors)\n",
      "   1289     dtype = dtype.numpy_dtype\n",
      "   1291 try:\n",
      "-> 1292     new_values = astype_array(values, dtype, copy=copy)\n",
      "   1293 except (ValueError, TypeError):\n",
      "   1294     # e.g. astype_nansafe can fail on object-dtype of strings\n",
      "   1295     #  trying to convert to float\n",
      "   1296     if errors == \"ignore\":\n",
      "\n",
      "File ~/opt/anaconda3/lib/python3.9/site-packages/pandas/core/dtypes/cast.py:1237, in astype_array(values, dtype, copy)\n",
      "   1234     values = values.astype(dtype, copy=copy)\n",
      "   1236 else:\n",
      "-> 1237     values = astype_nansafe(values, dtype, copy=copy)\n",
      "   1239 # in pandas we don't store numpy str dtypes, so convert to object\n",
      "   1240 if isinstance(dtype, np.dtype) and issubclass(values.dtype.type, str):\n",
      "\n",
      "File ~/opt/anaconda3/lib/python3.9/site-packages/pandas/core/dtypes/cast.py:1181, in astype_nansafe(arr, dtype, copy, skipna)\n",
      "   1177     raise ValueError(msg)\n",
      "   1179 if copy or is_object_dtype(arr.dtype) or is_object_dtype(dtype):\n",
      "   1180     # Explicit copy, or required since NumPy can't view from / to object.\n",
      "-> 1181     return arr.astype(dtype, copy=True)\n",
      "   1183 return arr.astype(dtype, copy=copy)\n",
      "\n",
      "ValueError: could not convert string to float: 'Başl. qiymət: 1.50 '\n",
      "\n",
      "Papermill execution complete.\n"
     ]
    },
    {
     "name": "stderr",
     "output_type": "stream",
     "text": [
      "\n"
     ]
    }
   ],
   "source": [
    "import time\n",
    "import concurrent.futures\n",
    "import papermill as pm\n",
    "import psutil\n",
    "import os\n",
    "from datetime import datetime, timedelta\n",
    "from tqdm import tqdm\n",
    "\n",
    "notebooks = ['Bravo_Selenium.ipynb', 'Neptun_Scrape.ipynb', 'BazarStore_new.ipynb']\n",
    "\n",
    "interval_in_seconds = 86400  # 24 hours\n",
    "last_execution_time = datetime.now()\n",
    "\n",
    "def execute_notebook(notebook):\n",
    "    try:\n",
    "        pm.execute_notebook(notebook, notebook)\n",
    "    except Exception as e:\n",
    "        print(f\"Error running notebook {notebook}: {e}\")\n",
    "\n",
    "if __name__ == \"__main__\":\n",
    "    # Execute notebooks on first run\n",
    "    with concurrent.futures.ThreadPoolExecutor() as executor:\n",
    "        futures = []\n",
    "        for notebook in notebooks:\n",
    "            futures.append(executor.submit(execute_notebook, notebook))\n",
    "        \n",
    "        with tqdm(total=len(futures), desc=\"Executing notebooks\") as pbar:\n",
    "            for _ in concurrent.futures.as_completed(futures):\n",
    "                pbar.update(1)\n",
    "\n",
    "    print(\"Papermill execution complete.\")\n",
    "\n",
    "    while True:\n",
    "        # Check elapsed time since last execution\n",
    "        elapsed_time = (datetime.now() - last_execution_time).total_seconds()\n",
    "        if elapsed_time < interval_in_seconds:\n",
    "            time.sleep(interval_in_seconds - elapsed_time)\n",
    "\n",
    "        # Execute notebooks\n",
    "        with concurrent.futures.ThreadPoolExecutor() as executor:\n",
    "            futures = []\n",
    "            for notebook in notebooks:\n",
    "                futures.append(executor.submit(execute_notebook, notebook))\n",
    "            \n",
    "            with tqdm(total=len(futures), desc=\"Executing notebooks\") as pbar:\n",
    "                for _ in concurrent.futures.as_completed(futures):\n",
    "                    pbar.update(1)\n",
    "\n",
    "        print(\"Papermill execution complete.\")\n",
    "\n",
    "        # Monitor resource usage\n",
    "        with tqdm(desc=\"Monitoring resources\") as pbar:\n",
    "            while True:\n",
    "                process = psutil.Process(os.getpid())\n",
    "                cpu_percent = process.cpu_percent()\n",
    "                mem_usage = process.memory_info().rss\n",
    "                pbar.set_postfix({\"CPU\": f\"{cpu_percent:.1f}%\", \"Memory\": f\"{mem_usage / 1024 / 1024:.1f} MB\"})\n",
    "                pbar.update(1)\n",
    "                time.sleep(1)\n",
    "\n",
    "                if pbar.n >= interval_in_seconds:\n",
    "                    pbar.close()\n",
    "                    break\n",
    "\n",
    "        # Update last execution time\n",
    "        last_execution_time = datetime.now()\n",
    "\n",
    "        print(f\"Next execution at {last_execution_time + timedelta(seconds=interval_in_seconds)}.\")\n"
   ]
  },
  {
   "cell_type": "code",
   "execution_count": null,
   "id": "4f3f6d2f-87dd-4cec-a4de-764c760e8efd",
   "metadata": {},
   "outputs": [],
   "source": []
  },
  {
   "cell_type": "code",
   "execution_count": null,
   "id": "1e1d2ad6-6fb2-469d-92ed-87e914822250",
   "metadata": {},
   "outputs": [],
   "source": []
  }
 ],
 "metadata": {
  "kernelspec": {
   "display_name": "Python 3 (ipykernel)",
   "language": "python",
   "name": "python3"
  },
  "language_info": {
   "codemirror_mode": {
    "name": "ipython",
    "version": 3
   },
   "file_extension": ".py",
   "mimetype": "text/x-python",
   "name": "python",
   "nbconvert_exporter": "python",
   "pygments_lexer": "ipython3",
   "version": "3.9.12"
  }
 },
 "nbformat": 4,
 "nbformat_minor": 5
}
