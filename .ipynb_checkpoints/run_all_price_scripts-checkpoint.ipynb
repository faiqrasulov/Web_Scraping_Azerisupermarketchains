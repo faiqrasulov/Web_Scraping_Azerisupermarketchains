{
 "cells": [
  {
   "cell_type": "code",
   "execution_count": null,
   "id": "38b7452e-b0bf-45d3-a33b-d4cd48e94417",
   "metadata": {},
   "outputs": [
    {
     "name": "stderr",
     "output_type": "stream",
     "text": [
      "Executing notebooks:   0%|          | 0/3 [00:00<?, ?it/s]"
     ]
    },
    {
     "data": {
      "application/vnd.jupyter.widget-view+json": {
       "model_id": "198699effffe48d7bac3c7859177b696",
       "version_major": 2,
       "version_minor": 0
      },
      "text/plain": [
       "Executing:   0%|          | 0/17 [00:00<?, ?cell/s]"
      ]
     },
     "metadata": {},
     "output_type": "display_data"
    },
    {
     "data": {
      "application/vnd.jupyter.widget-view+json": {
       "model_id": "084067683a6946cc893a5fa6502bee92",
       "version_major": 2,
       "version_minor": 0
      },
      "text/plain": [
       "Executing:   0%|          | 0/11 [00:00<?, ?cell/s]"
      ]
     },
     "metadata": {},
     "output_type": "display_data"
    },
    {
     "data": {
      "application/vnd.jupyter.widget-view+json": {
       "model_id": "b2e35ac87a4945c097757a7f6c9e85bc",
       "version_major": 2,
       "version_minor": 0
      },
      "text/plain": [
       "Executing:   0%|          | 0/11 [00:00<?, ?cell/s]"
      ]
     },
     "metadata": {},
     "output_type": "display_data"
    },
    {
     "name": "stderr",
     "output_type": "stream",
     "text": [
      "Executing notebooks:  67%|██████▋   | 2/3 [16:14<09:02, 542.50s/it]"
     ]
    }
   ],
   "source": [
    "import time\n",
    "import concurrent.futures\n",
    "import papermill as pm\n",
    "import psutil\n",
    "import os\n",
    "from datetime import datetime, timedelta\n",
    "from tqdm import tqdm\n",
    "\n",
    "notebooks = ['Bravo_Selenium.ipynb', 'Neptun_Scrape.ipynb', 'BazarStore_new.ipynb']\n",
    "\n",
    "interval_in_seconds = 86400  # 24 hours\n",
    "last_execution_time = datetime.now()\n",
    "\n",
    "def execute_notebook(notebook):\n",
    "    try:\n",
    "        pm.execute_notebook(notebook, notebook)\n",
    "    except Exception as e:\n",
    "        print(f\"Error running notebook {notebook}: {e}\")\n",
    "\n",
    "if __name__ == \"__main__\":\n",
    "    # Execute notebooks on first run\n",
    "    with concurrent.futures.ThreadPoolExecutor() as executor:\n",
    "        futures = []\n",
    "        for notebook in notebooks:\n",
    "            futures.append(executor.submit(execute_notebook, notebook))\n",
    "        \n",
    "        with tqdm(total=len(futures), desc=\"Executing notebooks\") as pbar:\n",
    "            for _ in concurrent.futures.as_completed(futures):\n",
    "                pbar.update(1)\n",
    "\n",
    "    print(\"Papermill execution complete.\")\n",
    "\n",
    "    while True:\n",
    "        # Check elapsed time since last execution\n",
    "        elapsed_time = (datetime.now() - last_execution_time).total_seconds()\n",
    "        if elapsed_time < interval_in_seconds:\n",
    "            time.sleep(interval_in_seconds - elapsed_time)\n",
    "\n",
    "        # Execute notebooks\n",
    "        with concurrent.futures.ThreadPoolExecutor() as executor:\n",
    "            futures = []\n",
    "            for notebook in notebooks:\n",
    "                futures.append(executor.submit(execute_notebook, notebook))\n",
    "            \n",
    "            with tqdm(total=len(futures), desc=\"Executing notebooks\") as pbar:\n",
    "                for _ in concurrent.futures.as_completed(futures):\n",
    "                    pbar.update(1)\n",
    "\n",
    "        print(\"Papermill execution complete.\")\n",
    "\n",
    "        # Monitor resource usage\n",
    "        with tqdm(desc=\"Monitoring resources\") as pbar:\n",
    "            while True:\n",
    "                process = psutil.Process(os.getpid())\n",
    "                cpu_percent = process.cpu_percent()\n",
    "                mem_usage = process.memory_info().rss\n",
    "                pbar.set_postfix({\"CPU\": f\"{cpu_percent:.1f}%\", \"Memory\": f\"{mem_usage / 1024 / 1024:.1f} MB\"})\n",
    "                pbar.update(1)\n",
    "                time.sleep(1)\n",
    "\n",
    "                if pbar.n >= interval_in_seconds:\n",
    "                    pbar.close()\n",
    "                    break\n",
    "\n",
    "        # Update last execution time\n",
    "        last_execution_time = datetime.now()\n",
    "\n",
    "        print(f\"Next execution at {last_execution_time + timedelta(seconds=interval_in_seconds)}.\")\n"
   ]
  },
  {
   "cell_type": "code",
   "execution_count": null,
   "id": "4f3f6d2f-87dd-4cec-a4de-764c760e8efd",
   "metadata": {},
   "outputs": [],
   "source": []
  },
  {
   "cell_type": "code",
   "execution_count": null,
   "id": "1e1d2ad6-6fb2-469d-92ed-87e914822250",
   "metadata": {},
   "outputs": [],
   "source": []
  }
 ],
 "metadata": {
  "kernelspec": {
   "display_name": "Python 3 (ipykernel)",
   "language": "python",
   "name": "python3"
  },
  "language_info": {
   "codemirror_mode": {
    "name": "ipython",
    "version": 3
   },
   "file_extension": ".py",
   "mimetype": "text/x-python",
   "name": "python",
   "nbconvert_exporter": "python",
   "pygments_lexer": "ipython3",
   "version": "3.9.12"
  }
 },
 "nbformat": 4,
 "nbformat_minor": 5
}
