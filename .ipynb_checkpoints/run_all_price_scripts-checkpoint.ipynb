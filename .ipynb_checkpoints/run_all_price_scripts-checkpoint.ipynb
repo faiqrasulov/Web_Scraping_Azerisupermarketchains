{
 "cells": [
  {
   "cell_type": "code",
   "execution_count": null,
   "id": "38b7452e-b0bf-45d3-a33b-d4cd48e94417",
   "metadata": {},
   "outputs": [
    {
     "name": "stderr",
     "output_type": "stream",
     "text": [
      "Executing notebooks:   0%|          | 0/3 [00:00<?, ?it/s]"
     ]
    },
    {
     "data": {
      "application/vnd.jupyter.widget-view+json": {
       "model_id": "6cbb7e8ff0c044ccb99ca9021f981f52",
       "version_major": 2,
       "version_minor": 0
      },
      "text/plain": [
       "Executing:   0%|          | 0/21 [00:00<?, ?cell/s]"
      ]
     },
     "metadata": {},
     "output_type": "display_data"
    },
    {
     "data": {
      "application/vnd.jupyter.widget-view+json": {
       "model_id": "dedaa9ddcbcd494c806765b0fc55c612",
       "version_major": 2,
       "version_minor": 0
      },
      "text/plain": [
       "Executing:   0%|          | 0/28 [00:00<?, ?cell/s]"
      ]
     },
     "metadata": {},
     "output_type": "display_data"
    },
    {
     "data": {
      "application/vnd.jupyter.widget-view+json": {
       "model_id": "24cffb8746584bafb39f6996472a6f32",
       "version_major": 2,
       "version_minor": 0
      },
      "text/plain": [
       "Executing:   0%|          | 0/24 [00:00<?, ?cell/s]"
      ]
     },
     "metadata": {},
     "output_type": "display_data"
    },
    {
     "name": "stderr",
     "output_type": "stream",
     "text": [
      "Executing notebooks:  33%|███▎      | 1/3 [00:35<01:11, 35.99s/it]"
     ]
    },
    {
     "name": "stdout",
     "output_type": "stream",
     "text": [
      "Error running notebook Bravo_Selenium.ipynb: \n",
      "---------------------------------------------------------------------------\n",
      "Exception encountered at \"In [6]\":\n",
      "---------------------------------------------------------------------------\n",
      "JavascriptException                       Traceback (most recent call last)\n",
      "Input In [6], in <cell line: 10>()\n",
      "     13 #time.sleep(3)\n",
      "     14 driver.get(url)\n",
      "---> 15 driver.execute_script(\"window.scrollTo(0, document.body.scrollHeight);\")\n",
      "     16 #time.sleep(3)\n",
      "     17 WebDriverWait(driver,60).until(EC.presence_of_all_elements_located((By.CLASS_NAME,\"product_item.product-item\")))\n",
      "\n",
      "File ~/opt/anaconda3/lib/python3.9/site-packages/selenium/webdriver/remote/webdriver.py:500, in WebDriver.execute_script(self, script, *args)\n",
      "    497 converted_args = list(args)\n",
      "    498 command = Command.W3C_EXECUTE_SCRIPT\n",
      "--> 500 return self.execute(command, {\"script\": script, \"args\": converted_args})[\"value\"]\n",
      "\n",
      "File ~/opt/anaconda3/lib/python3.9/site-packages/selenium/webdriver/remote/webdriver.py:440, in WebDriver.execute(self, driver_command, params)\n",
      "    438 response = self.command_executor.execute(driver_command, params)\n",
      "    439 if response:\n",
      "--> 440     self.error_handler.check_response(response)\n",
      "    441     response[\"value\"] = self._unwrap_value(response.get(\"value\", None))\n",
      "    442     return response\n",
      "\n",
      "File ~/opt/anaconda3/lib/python3.9/site-packages/selenium/webdriver/remote/errorhandler.py:245, in ErrorHandler.check_response(self, response)\n",
      "    243         alert_text = value[\"alert\"].get(\"text\")\n",
      "    244     raise exception_class(message, screen, stacktrace, alert_text)  # type: ignore[call-arg]  # mypy is not smart enough here\n",
      "--> 245 raise exception_class(message, screen, stacktrace)\n",
      "\n",
      "JavascriptException: Message: javascript error: Cannot read properties of null (reading 'scrollHeight')\n",
      "  (Session info: chrome=112.0.5615.49)\n",
      "Stacktrace:\n",
      "0   chromedriver                        0x000000010fd98ae8 chromedriver + 4958952\n",
      "1   chromedriver                        0x000000010fd907b3 chromedriver + 4925363\n",
      "2   chromedriver                        0x000000010f9521d6 chromedriver + 475606\n",
      "3   chromedriver                        0x000000010f956274 chromedriver + 492148\n",
      "4   chromedriver                        0x000000010f955e56 chromedriver + 491094\n",
      "5   chromedriver                        0x000000010f956ed9 chromedriver + 495321\n",
      "6   chromedriver                        0x000000010f9d7fb4 chromedriver + 1023924\n",
      "7   chromedriver                        0x000000010f9bbc12 chromedriver + 908306\n",
      "8   chromedriver                        0x000000010f9d725b chromedriver + 1020507\n",
      "9   chromedriver                        0x000000010f9bb9e3 chromedriver + 907747\n",
      "10  chromedriver                        0x000000010f985aef chromedriver + 686831\n",
      "11  chromedriver                        0x000000010f98700e chromedriver + 692238\n",
      "12  chromedriver                        0x000000010fd549ad chromedriver + 4680109\n",
      "13  chromedriver                        0x000000010fd59c12 chromedriver + 4701202\n",
      "14  chromedriver                        0x000000010fd6079f chromedriver + 4728735\n",
      "15  chromedriver                        0x000000010fd5ab7a chromedriver + 4705146\n",
      "16  chromedriver                        0x000000010fd2d27e chromedriver + 4518526\n",
      "17  chromedriver                        0x000000010fd7a908 chromedriver + 4835592\n",
      "18  chromedriver                        0x000000010fd7aa87 chromedriver + 4835975\n",
      "19  chromedriver                        0x000000010fd8a00f chromedriver + 4898831\n",
      "20  libsystem_pthread.dylib             0x00007fff203298fc _pthread_start + 224\n",
      "21  libsystem_pthread.dylib             0x00007fff20325443 thread_start + 15\n",
      "\n",
      "\n"
     ]
    },
    {
     "name": "stderr",
     "output_type": "stream",
     "text": [
      "Executing notebooks: 100%|██████████| 3/3 [17:28<00:00, 349.63s/it]\n"
     ]
    },
    {
     "name": "stdout",
     "output_type": "stream",
     "text": [
      "Papermill execution complete.\n"
     ]
    }
   ],
   "source": [
    "import time\n",
    "import concurrent.futures\n",
    "import papermill as pm\n",
    "import psutil\n",
    "import os\n",
    "from datetime import datetime, timedelta\n",
    "from tqdm import tqdm\n",
    "\n",
    "notebooks = ['Bravo_Selenium.ipynb', 'Neptun_Scrape.ipynb', 'Bazarstore_Selenium.ipynb']\n",
    "\n",
    "interval_in_seconds = 86400  # 24 hours\n",
    "last_execution_time = datetime.now()\n",
    "\n",
    "def execute_notebook(notebook):\n",
    "    try:\n",
    "        pm.execute_notebook(notebook, notebook)\n",
    "    except Exception as e:\n",
    "        print(f\"Error running notebook {notebook}: {e}\")\n",
    "\n",
    "if __name__ == \"__main__\":\n",
    "    # Execute notebooks on first run\n",
    "    with concurrent.futures.ThreadPoolExecutor() as executor:\n",
    "        futures = []\n",
    "        for notebook in notebooks:\n",
    "            futures.append(executor.submit(execute_notebook, notebook))\n",
    "        \n",
    "        with tqdm(total=len(futures), desc=\"Executing notebooks\") as pbar:\n",
    "            for _ in concurrent.futures.as_completed(futures):\n",
    "                pbar.update(1)\n",
    "\n",
    "    print(\"Papermill execution complete.\")\n",
    "\n",
    "    while True:\n",
    "        # Check elapsed time since last execution\n",
    "        elapsed_time = (datetime.now() - last_execution_time).total_seconds()\n",
    "        if elapsed_time < interval_in_seconds:\n",
    "            time.sleep(interval_in_seconds - elapsed_time)\n",
    "\n",
    "        # Execute notebooks\n",
    "        with concurrent.futures.ThreadPoolExecutor() as executor:\n",
    "            futures = []\n",
    "            for notebook in notebooks:\n",
    "                futures.append(executor.submit(execute_notebook, notebook))\n",
    "            \n",
    "            with tqdm(total=len(futures), desc=\"Executing notebooks\") as pbar:\n",
    "                for _ in concurrent.futures.as_completed(futures):\n",
    "                    pbar.update(1)\n",
    "\n",
    "        print(\"Papermill execution complete.\")\n",
    "\n",
    "        # Monitor resource usage\n",
    "        with tqdm(desc=\"Monitoring resources\") as pbar:\n",
    "            while True:\n",
    "                process = psutil.Process(os.getpid())\n",
    "                cpu_percent = process.cpu_percent()\n",
    "                mem_usage = process.memory_info().rss\n",
    "                pbar.set_postfix({\"CPU\": f\"{cpu_percent:.1f}%\", \"Memory\": f\"{mem_usage / 1024 / 1024:.1f} MB\"})\n",
    "                pbar.update(1)\n",
    "                time.sleep(1)\n",
    "\n",
    "                if pbar.n >= interval_in_seconds:\n",
    "                    pbar.close()\n",
    "                    break\n",
    "\n",
    "        # Update last execution time\n",
    "        last_execution_time = datetime.now()\n",
    "\n",
    "        print(f\"Next execution at {last_execution_time + timedelta(seconds=interval_in_seconds)}.\")\n"
   ]
  },
  {
   "cell_type": "code",
   "execution_count": null,
   "id": "4f3f6d2f-87dd-4cec-a4de-764c760e8efd",
   "metadata": {},
   "outputs": [],
   "source": []
  },
  {
   "cell_type": "code",
   "execution_count": null,
   "id": "1e1d2ad6-6fb2-469d-92ed-87e914822250",
   "metadata": {},
   "outputs": [],
   "source": []
  }
 ],
 "metadata": {
  "kernelspec": {
   "display_name": "Python 3 (ipykernel)",
   "language": "python",
   "name": "python3"
  },
  "language_info": {
   "codemirror_mode": {
    "name": "ipython",
    "version": 3
   },
   "file_extension": ".py",
   "mimetype": "text/x-python",
   "name": "python",
   "nbconvert_exporter": "python",
   "pygments_lexer": "ipython3",
   "version": "3.9.12"
  }
 },
 "nbformat": 4,
 "nbformat_minor": 5
}
