{
 "cells": [
  {
   "cell_type": "markdown",
   "id": "8c3de802-0e13-4a7f-9b8c-4db7fc2de5a1",
   "metadata": {},
   "source": [
    "# Brilliant Code"
   ]
  },
  {
   "cell_type": "code",
   "execution_count": 2,
   "id": "3f4e6d9c-b06a-4e0e-93da-2d93b2a8e683",
   "metadata": {},
   "outputs": [
    {
     "name": "stdin",
     "output_type": "stream",
     "text": [
      "Please enter the input directory (Neptun, BazarStore, or Bravo):  Neptun\n",
      "Please enter the month (1-12):  6\n",
      "Please enter the year:  2023\n"
     ]
    },
    {
     "name": "stdout",
     "output_type": "stream",
     "text": [
      "Data saved to /Users/FaiqRasulov/Desktop/Qiymet_list/monthy_analysis/neptun_june_2023_sorted_2023-07-07.xlsx\n"
     ]
    },
    {
     "name": "stdin",
     "output_type": "stream",
     "text": [
      "Do you want to run the program again? (yes or no):  yes\n",
      "Please enter the input directory (Neptun, BazarStore, or Bravo):  BazarStore\n",
      "Please enter the month (1-12):  6\n",
      "Please enter the year:  2023\n"
     ]
    },
    {
     "name": "stdout",
     "output_type": "stream",
     "text": [
      "Data saved to /Users/FaiqRasulov/Desktop/Qiymet_list/monthy_analysis/bazarstore_june_2023_sorted_2023-07-07.xlsx\n"
     ]
    },
    {
     "name": "stdin",
     "output_type": "stream",
     "text": [
      "Do you want to run the program again? (yes or no):  yes\n",
      "Please enter the input directory (Neptun, BazarStore, or Bravo):  Bravo\n",
      "Please enter the month (1-12):  6\n",
      "Please enter the year:  2023\n"
     ]
    },
    {
     "name": "stdout",
     "output_type": "stream",
     "text": [
      "Data saved to /Users/FaiqRasulov/Desktop/Qiymet_list/monthy_analysis/bravo_june_2023_sorted_2023-07-07.xlsx\n"
     ]
    },
    {
     "name": "stdin",
     "output_type": "stream",
     "text": [
      "Do you want to run the program again? (yes or no):  no\n"
     ]
    }
   ],
   "source": [
    "import os\n",
    "import pandas as pd\n",
    "from datetime import datetime\n",
    "\n",
    "def filter_and_concat_data():\n",
    "    while True:\n",
    "        input_dir = input(\"Please enter the input directory (Neptun, BazarStore, or Bravo): \")\n",
    "        input_month = input(\"Please enter the month (1-12): \")\n",
    "        input_year = input(\"Please enter the year: \")\n",
    "        try:\n",
    "            input_month = int(input_month)\n",
    "            input_year = int(input_year)\n",
    "        except ValueError:\n",
    "            print(\"Invalid input. Month and year must be integers.\")\n",
    "            continue\n",
    "\n",
    "        # Map input_month to month name\n",
    "        try:\n",
    "            month_name = datetime.strptime(str(input_month), '%m').strftime('%B')\n",
    "        except ValueError:\n",
    "            print(\"Invalid input. Month must be between 1 and 12.\")\n",
    "            continue\n",
    "\n",
    "        # Get directory path based on input_dir\n",
    "        if input_dir.lower() == 'neptun':\n",
    "            directory = '/Users/FaiqRasulov/Desktop/Qiymet_list/Neptun/'\n",
    "        elif input_dir.lower() == 'bazarstore':\n",
    "            directory = '/Users/FaiqRasulov/Desktop/Qiymet_list/BazarStore/'\n",
    "        elif input_dir.lower() == 'bravo':\n",
    "            directory = '/Users/FaiqRasulov/Desktop/Qiymet_list/Bravo/'\n",
    "        else:\n",
    "            print(\"Invalid input directory!\")\n",
    "            continue\n",
    "\n",
    "        # Filter files based on input month and year\n",
    "        filtered_files = []\n",
    "        for file in os.listdir(directory):\n",
    "            if file.endswith('.xlsx'):\n",
    "                date_str = file.split(' ')[-1].split('.')[0]\n",
    "                day, month, year = map(int, date_str.split('-'))\n",
    "                if month == input_month and year == input_year:\n",
    "                    filtered_files.append(file)\n",
    "\n",
    "        if not filtered_files:\n",
    "            print(f\"No files found for {month_name} {input_year} in {input_dir} directory.\")\n",
    "            continue\n",
    "\n",
    "        # Concatenate data frames\n",
    "        df_list = []\n",
    "        for file in filtered_files:\n",
    "            df = pd.read_excel(os.path.join(directory, file), engine='openpyxl')\n",
    "            df_list.append(df)\n",
    "        df = pd.concat(df_list, ignore_index=True)\n",
    "\n",
    "        # Sort by 'tarix' column\n",
    "        df = df.sort_values('tarix')\n",
    "\n",
    "        # Save to file with current date in filename\n",
    "        output_path = '/Users/FaiqRasulov/Desktop/Qiymet_list/monthy_analysis/'\n",
    "        output_filename = input_dir.lower() + '_' + month_name.lower() + '_' + str(input_year) + '_sorted_' + datetime.now().strftime('%Y-%m-%d') + '.xlsx'\n",
    "        output_file = os.path.join(output_path, output_filename)\n",
    "        df.to_excel(output_file, index=False)\n",
    "        print(f\"Data saved to {output_file}\")\n",
    "\n",
    "        while True:\n",
    "            repeat = input(\"Do you want to run the program again? (yes or no): \")\n",
    "            if repeat.lower() == 'yes':\n",
    "                break\n",
    "            elif repeat.lower() == 'no':\n",
    "                return\n",
    "            else:\n",
    "                print(\"Invalid input. Please enter 'yes' or 'no'.\")\n",
    "\n",
    "\n",
    "filter_and_concat_data()"
   ]
  },
  {
   "cell_type": "code",
   "execution_count": null,
   "id": "88b33551-c8e3-473a-957f-23cd4578a979",
   "metadata": {},
   "outputs": [],
   "source": []
  }
 ],
 "metadata": {
  "kernelspec": {
   "display_name": "Python 3 (ipykernel)",
   "language": "python",
   "name": "python3"
  },
  "language_info": {
   "codemirror_mode": {
    "name": "ipython",
    "version": 3
   },
   "file_extension": ".py",
   "mimetype": "text/x-python",
   "name": "python",
   "nbconvert_exporter": "python",
   "pygments_lexer": "ipython3",
   "version": "3.9.12"
  }
 },
 "nbformat": 4,
 "nbformat_minor": 5
}
