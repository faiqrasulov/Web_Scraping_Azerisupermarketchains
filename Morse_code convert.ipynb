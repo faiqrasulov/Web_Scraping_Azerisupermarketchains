{
 "cells": [
  {
   "cell_type": "code",
   "execution_count": null,
   "id": "21c12c2a-9cc6-407e-8cb4-e506ae33fd3a",
   "metadata": {},
   "outputs": [
    {
     "name": "stdin",
     "output_type": "stream",
     "text": [
      "Enter '1' to decode Morse code or '2' to encode text to Morse code (press 'q' to quit):  2\n",
      "Enter text:  -- -.-- / -. .- -- . / .. ... / ..-. .- .. --.- / .- -. -.. / -... -.-- / - .... . / .- --. . / --- ..-. / ....- ----- / .. / .-- .. .-.. .-.. / -... . -.-. --- -- . / .- / -- ..- .-.. - .. / -... .. .-.. .-.. .. --- -. .- .. .-. .\n"
     ]
    },
    {
     "name": "stdout",
     "output_type": "stream",
     "text": [
      "Encoded Morse code: -....- -....-  /  -....- ._._._ -....- -....-  /  _._.__  /  -....- ._._._  /  ._._._ -....-  /  -....- -....-  /  ._._._  /  _._.__  /  ._._._ ._._._  /  ._._._ ._._._ ._._._  /  _._.__  /  ._._._ ._._._ -....- ._._._  /  ._._._ -....-  /  ._._._ ._._._  /  -....- -....- ._._._ -....-  /  _._.__  /  ._._._ -....-  /  -....- ._._._  /  -....- ._._._ ._._._  /  _._.__  /  -....- ._._._ ._._._ ._._._  /  -....- ._._._ -....- -....-  /  _._.__  /  -....-  /  ._._._ ._._._ ._._._ ._._._  /  ._._._  /  _._.__  /  ._._._ -....-  /  -....- -....- ._._._  /  ._._._  /  _._.__  /  -....- -....- -....-  /  ._._._ ._._._ -....- ._._._  /  _._.__  /  ._._._ ._._._ ._._._ ._._._ -....-  /  -....- -....- -....- -....- -....-  /  _._.__  /  ._._._ ._._._  /  _._.__  /  ._._._ -....- -....-  /  ._._._ ._._._  /  ._._._ -....- ._._._ ._._._  /  ._._._ -....- ._._._ ._._._  /  _._.__  /  -....- ._._._ ._._._ ._._._  /  ._._._  /  -....- ._._._ -....- ._._._  /  -....- -....- -....-  /  -....- -....-  /  ._._._  /  _._.__  /  ._._._ -....-  /  _._.__  /  -....- -....-  /  ._._._ ._._._ -....-  /  ._._._ -....- ._._._ ._._._  /  -....-  /  ._._._ ._._._  /  _._.__  /  -....- ._._._ ._._._ ._._._  /  ._._._ ._._._  /  ._._._ -....- ._._._ ._._._  /  ._._._ -....- ._._._ ._._._  /  ._._._ ._._._  /  -....- -....- -....-  /  -....- ._._._  /  ._._._ -....-  /  ._._._ ._._._  /  ._._._ -....- ._._._  /  ._._._\n"
     ]
    },
    {
     "name": "stdin",
     "output_type": "stream",
     "text": [
      "Enter '1' to decode Morse code or '2' to encode text to Morse code (press 'q' to quit):  1\n",
      "Enter Morse code:  -- -.-- / -. .- -- . / .. ... / ..-. .- .. --.- / .- -. -.. / -... -.-- / - .... . / .- --. . / --- ..-. / ....- ----- / .. / .-- .. .-.. .-.. / -... . -.-. --- -- . / .- / -- ..- .-.. - .. / -... .. .-.. .-.. .. --- -. .- .. .-. .\n"
     ]
    },
    {
     "name": "stdout",
     "output_type": "stream",
     "text": [
      "Decoded text: MY NAME IS FAIQ AND BY THE AGE OF 40 I WILL BECOME A MULTI BILLIONAIRE\n"
     ]
    }
   ],
   "source": [
    "morse_dict = {\n",
    "    '.-': 'A', '-...': 'B', '-.-.': 'C', '-..': 'D', '.': 'E',\n",
    "    '..-.': 'F', '--.': 'G', '....': 'H', '..': 'I', '.---': 'J',\n",
    "    '-.-': 'K', '.-..': 'L', '--': 'M', '-.': 'N', '---': 'O',\n",
    "    '.--.': 'P', '--.-': 'Q', '.-.': 'R', '...': 'S', '-': 'T',\n",
    "    '..-': 'U', '...-': 'V', '.--': 'W', '-..-': 'X', '-.--': 'Y',\n",
    "    '--..': 'Z', '-----': '0', '.----': '1', '..---': '2', '...--': '3',\n",
    "    '....-': '4', '.....': '5', '-....': '6', '--...': '7', '---..': '8',\n",
    "    '----.': '9', '._._._': '.', '__..__': ',', '_...._': \"'\", '_.._._': '!',\n",
    "    '_..__': '?', '_..._': '=', '_._._.': ';', '-....-': '-', '_._.__': '/',\n",
    "    '._.._.': '\"', '..._.._': '$', '._._.': '+', '..__..': 'E', ' / ': ' ',\n",
    "}\n",
    "\n",
    "def decode_morse(morsecode: str) -> str:\n",
    "    decoded_text = []\n",
    "    words = morsecode.split(' / ')\n",
    "    for word in words:\n",
    "        decoded_word = []\n",
    "        chars = word.split(' ')\n",
    "        for char in chars:\n",
    "            if char in morse_dict:\n",
    "                decoded_word.append(morse_dict[char])\n",
    "        decoded_text.append(''.join(decoded_word))\n",
    "    return ' '.join(decoded_text)\n",
    "\n",
    "def encode_to_morse(text: str) -> str:\n",
    "    reverse_morse_dict = {v: k for k, v in morse_dict.items()}\n",
    "    encoded_text = []\n",
    "    for char in text.upper():\n",
    "        if char in reverse_morse_dict:\n",
    "            encoded_text.append(reverse_morse_dict[char])\n",
    "    return ' '.join(encoded_text)\n",
    "\n",
    "if __name__ == '__main__':\n",
    "    while True:\n",
    "        choice = input(\"Enter '1' to decode Morse code or '2' to encode text to Morse code (press 'q' to quit): \")\n",
    "\n",
    "        if choice == '1':\n",
    "            morse_code = input(\"Enter Morse code: \")\n",
    "            decoded_text = decode_morse(morse_code)\n",
    "            print(\"Decoded text:\", decoded_text)\n",
    "\n",
    "        elif choice == '2':\n",
    "            text = input(\"Enter text: \")\n",
    "            encoded_morse = encode_to_morse(text)\n",
    "            print(\"Encoded Morse code:\", encoded_morse)\n",
    "\n",
    "        elif choice.lower() == 'q':\n",
    "            break\n",
    "\n",
    "        else:\n",
    "            print(\"Invalid choice. Please try again.\")\n"
   ]
  },
  {
   "cell_type": "code",
   "execution_count": null,
   "id": "336481b9-cf81-4679-89ca-bdca67d49b77",
   "metadata": {},
   "outputs": [],
   "source": []
  }
 ],
 "metadata": {
  "kernelspec": {
   "display_name": "Python 3 (ipykernel)",
   "language": "python",
   "name": "python3"
  },
  "language_info": {
   "codemirror_mode": {
    "name": "ipython",
    "version": 3
   },
   "file_extension": ".py",
   "mimetype": "text/x-python",
   "name": "python",
   "nbconvert_exporter": "python",
   "pygments_lexer": "ipython3",
   "version": "3.9.12"
  }
 },
 "nbformat": 4,
 "nbformat_minor": 5
}
